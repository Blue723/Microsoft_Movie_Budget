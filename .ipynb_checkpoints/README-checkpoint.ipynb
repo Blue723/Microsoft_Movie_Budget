{
 "cells": [
  {
   "cell_type": "markdown",
   "metadata": {},
   "source": [
    "# README"
   ]
  },
  {
   "cell_type": "markdown",
   "metadata": {},
   "source": [
    "![cinema](https://github.com/Blue723/Microsoft_Movie_Budget/blob/master/img/microsoftimg.png?raw=true)"
   ]
  },
  {
   "cell_type": "markdown",
   "metadata": {},
   "source": [
    "# Overview"
   ]
  },
  {
   "cell_type": "markdown",
   "metadata": {},
   "source": [
    "Microsoft is interested in analyzing if the production budget has a relationship or affect with a movie's average rating, popularity, and profit. They hope to conclude production budget is a significant variable in having a successful movie. "
   ]
  },
  {
   "cell_type": "markdown",
   "metadata": {},
   "source": [
    "# Business Problem"
   ]
  },
  {
   "cell_type": "markdown",
   "metadata": {},
   "source": [
    "Microsoft would like to have a production budget less than $100 million while having a successful movie. Microsoft has minimum values for  average rating(7.5), popularity(12.693), and profit(150%) for what they consider a “success” in each category. We will compare production budget relation on average rating, popularity, and profit separately to observe relation and trends. \n",
    " "
   ]
  },
  {
   "cell_type": "markdown",
   "metadata": {},
   "source": [
    "# Data"
   ]
  },
  {
   "cell_type": "markdown",
   "metadata": {},
   "source": [
    "Microsoft has given data on movies on past movies to analyze budget. Extracted data used on movie’s budgets under 100 million and compared to:\n",
    " - Average ratings with minimum rating of 7.5 and number of votes 10,000, \n",
    " - Popularity more than 12.693 (the top 75% rated values)\n",
    " - Worldwide gross to calculate profit more than 150%\n"
   ]
  },
  {
   "cell_type": "markdown",
   "metadata": {},
   "source": [
    "# Methods"
   ]
  },
  {
   "cell_type": "markdown",
   "metadata": {},
   "source": [
    "This project uses correlation analysis to look for trends that find how budget is related to other data. "
   ]
  },
  {
   "cell_type": "markdown",
   "metadata": {},
   "source": [
    "![cinema](https://github.com/Blue723/Microsoft_Movie_Budget/blob/master/img/cinemaimg.png?raw=true)"
   ]
  },
  {
   "cell_type": "markdown",
   "metadata": {},
   "source": [
    "# Results"
   ]
  },
  {
   "cell_type": "markdown",
   "metadata": {},
   "source": [
    " - There appears to be no relationship between a movies production budget under 100 million and avrage rating, popularity, or profit percentage. \n",
    " - Looking at the top 20, as expected from the correlation above, production budget appears to have no effect on profit percentage."
   ]
  },
  {
   "cell_type": "markdown",
   "metadata": {},
   "source": [
    "![results](https://github.com/Blue723/Microsoft_Movie_Budget/blob/master/img/budg_rating_scatter.png?raw=true) ![results](https://github.com/Blue723/Microsoft_Movie_Budget/blob/master/img/budg_rating.png?raw=true) "
   ]
  },
  {
   "cell_type": "markdown",
   "metadata": {},
   "source": [
    "![results](https://github.com/Blue723/Microsoft_Movie_Budget/blob/master/img/budg_pop_scatter.png?raw=true) ![results](https://github.com/Blue723/Microsoft_Movie_Budget/blob/master/img/budg_pop.png?raw=true) "
   ]
  },
  {
   "cell_type": "markdown",
   "metadata": {},
   "source": [
    " ![results](https://github.com/Blue723/Microsoft_Movie_Budget/blob/master/img/budg_profit_scatter.png?raw=true) ![results](https://github.com/Blue723/Microsoft_Movie_Budget/blob/master/img/budg_profit.png?raw=true)"
   ]
  },
  {
   "cell_type": "markdown",
   "metadata": {},
   "source": [
    "# Conclusion"
   ]
  },
  {
   "cell_type": "markdown",
   "metadata": {},
   "source": [
    "Since the results do not show any relations or effects from one variable to another, Microsoft can conclude:\n",
    " - The budget will not determine a movie’s profit.\n",
    " - Focusing on making a movie popular will not affect profit or ratings\n",
    " - Ratings is not indicative of a profitable movie. \n",
    "\n",
    "Next Steps: \n",
    " - Microsoft will want to address other possible indicators of profit returns.\n",
    " - Since having good ratings, popularity, and low budget are not indicators of profit. Perhaps looking into studio, genre, or director. \n",
    " - Look into other relations between ratings, popularity, and budget to other data given. "
   ]
  }
 ],
 "metadata": {
  "kernelspec": {
   "display_name": "Python 3",
   "language": "python",
   "name": "python3"
  },
  "language_info": {
   "codemirror_mode": {
    "name": "ipython",
    "version": 3
   },
   "file_extension": ".py",
   "mimetype": "text/x-python",
   "name": "python",
   "nbconvert_exporter": "python",
   "pygments_lexer": "ipython3",
   "version": "3.8.8"
  }
 },
 "nbformat": 4,
 "nbformat_minor": 1
}
