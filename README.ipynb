{
 "cells": [
  {
   "cell_type": "markdown",
   "metadata": {},
   "source": [
    "# README"
   ]
  },
  {
   "cell_type": "markdown",
   "metadata": {},
   "source": [
    "![cinema](img\\microsoftimg.png)"
   ]
  },
  {
   "cell_type": "markdown",
   "metadata": {},
   "source": [
    "# Overview"
   ]
  },
  {
   "cell_type": "markdown",
   "metadata": {},
   "source": [
    "Microsoft want to analyze if a production budget is indicative of a successful movie. Microsoft believes a movie's average rating, popularity, and profit are are signs of a successful movie. They hope analyzing budget's relation and effect on average rating, popularity, and profit will help decide if budget could be applied to what indicates a successful movie. "
   ]
  },
  {
   "cell_type": "markdown",
   "metadata": {},
   "source": [
    "# Business Problem"
   ]
  },
  {
   "cell_type": "markdown",
   "metadata": {},
   "source": [
    "Microsoft would like to look at how budget affect the average rating, popularity, and profit. Microsoft's max budget will be 100 million so we will look at data under this. Microsoft would like to know if budget has positive relationships, to better understand how it affects the success.  "
   ]
  },
  {
   "cell_type": "markdown",
   "metadata": {},
   "source": [
    "# Data"
   ]
  },
  {
   "cell_type": "markdown",
   "metadata": {},
   "source": [
    "Microsoft has given data on movies on past movies to analyze budget. Extracted data used on movie’s budgets under 100 million, average ratings with minimum number of votes 10,000, popularity, domestic and foreign gross."
   ]
  },
  {
   "cell_type": "markdown",
   "metadata": {},
   "source": [
    "# Methods"
   ]
  },
  {
   "cell_type": "markdown",
   "metadata": {},
   "source": [
    "This project uses descriptive analysis to look for trends that find how budget is related to other data. "
   ]
  },
  {
   "cell_type": "markdown",
   "metadata": {},
   "source": [
    "![cinema](img\\cinemaimg.png)"
   ]
  },
  {
   "cell_type": "markdown",
   "metadata": {},
   "source": [
    "# Results"
   ]
  },
  {
   "cell_type": "markdown",
   "metadata": {},
   "source": [
    " - There appears to be no relationship between a movies production budget under 100 million and avrage rating, popularity, or profit percentage. \n",
    " - Looking at the top 20, as expected from the correlation above, production budget appears to have no effect on profit percentage."
   ]
  },
  {
   "cell_type": "markdown",
   "metadata": {},
   "source": [
    "![results](img\\budg_rating_scatter.png) ![results](img\\budg_rating.png) "
   ]
  },
  {
   "cell_type": "markdown",
   "metadata": {},
   "source": [
    "![results](img\\budg_pop_scatter.png) ![results](img\\budg_pop.png) "
   ]
  },
  {
   "cell_type": "markdown",
   "metadata": {},
   "source": [
    " ![results](img\\budg_profit_scatter.png) ![results](img\\budg_profit.png)"
   ]
  },
  {
   "cell_type": "markdown",
   "metadata": {},
   "source": [
    "# Conclusion"
   ]
  },
  {
   "cell_type": "markdown",
   "metadata": {},
   "source": [
    "Since the results do not show any relations or effects from one variable to another, Microsoft can conclude:\n",
    " - The budget will not determine a movie’s profit.\n",
    " - Focusing on making a movie popular will not affect profit or ratings\n",
    " - Ratings is not indicative of a profitable movie. \n",
    "\n",
    "Next Steps: \n",
    " - Microsoft will want to address other possible indicators of profit returns.\n",
    " - Since having good ratings, popularity, and low budget are not indicators of profit. Perhaps looking into studio, genre, or director. \n",
    " - Look into other relations between ratings, popularity, and budget to other data given. "
   ]
  }
 ],
 "metadata": {
  "kernelspec": {
   "display_name": "Python 3",
   "language": "python",
   "name": "python3"
  },
  "language_info": {
   "codemirror_mode": {
    "name": "ipython",
    "version": 3
   },
   "file_extension": ".py",
   "mimetype": "text/x-python",
   "name": "python",
   "nbconvert_exporter": "python",
   "pygments_lexer": "ipython3",
   "version": "3.8.8"
  }
 },
 "nbformat": 4,
 "nbformat_minor": 1
}
